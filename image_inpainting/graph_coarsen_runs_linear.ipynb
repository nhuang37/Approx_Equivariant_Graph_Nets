{
 "cells": [
  {
   "cell_type": "code",
   "execution_count": 1,
   "metadata": {},
   "outputs": [
    {
     "name": "stderr",
     "output_type": "stream",
     "text": [
      "/cis/home/nhuang19/anaconda3/envs/deepspeed/lib/python3.10/site-packages/tqdm/auto.py:21: TqdmWarning: IProgress not found. Please update jupyter and ipywidgets. See https://ipywidgets.readthedocs.io/en/stable/user_install.html\n",
      "  from .autonotebook import tqdm as notebook_tqdm\n"
     ]
    },
    {
     "data": {
      "text/plain": [
       "True"
      ]
     },
     "execution_count": 1,
     "metadata": {},
     "output_type": "execute_result"
    }
   ],
   "source": [
    "import torch\n",
    "import torch.nn as nn\n",
    "import torch.nn.functional as F\n",
    "import torch.optim as optim\n",
    "import torchvision\n",
    "from torchvision import datasets, transforms\n",
    "import torch_geometric\n",
    "from torch.utils.data import Subset, Dataset\n",
    "import matplotlib.pyplot as plt\n",
    "import matplotlib\n",
    "import numpy as np\n",
    "import networkx as nx\n",
    "import pickle\n",
    "from sklearn.model_selection import train_test_split\n",
    "import seaborn as sns\n",
    "import pandas as pd\n",
    "import math\n",
    "from einops import rearrange\n",
    "from models_coarsen.gnet_coarsening import Sn_coarsen_layer, Sn_coarsen_net\n",
    "from models_coarsen.gnet_coarsen_utils import get_clusters, get_cluster_idxs, \\\n",
    "                           get_masked_images, generate_grid_graph, \\\n",
    "                           prepare_data, run_exp\n",
    "# reproducibility\n",
    "np.random.seed(0)\n",
    "\n",
    "torch.cuda.is_available()\n"
   ]
  },
  {
   "attachments": {},
   "cell_type": "markdown",
   "metadata": {},
   "source": [
    "## Set-up\n",
    "- x: image\n",
    "- y: rotated(image) + Gaussian_noise"
   ]
  },
  {
   "cell_type": "code",
   "execution_count": 6,
   "metadata": {},
   "outputs": [
    {
     "name": "stdout",
     "output_type": "stream",
     "text": [
      "training_size=100, test_size=1000\n"
     ]
    }
   ],
   "source": [
    "#Load MNIST\n",
    "MNIST_flag = False #True #False - FashionMNIST\n",
    "subset_flag = True\n",
    "N = 28\n",
    "\n",
    "input_size  = N*N  # images are 28x28 pixels\n",
    "output_size = 10      # there are 10 classes\n",
    "noise_flag = True\n",
    "\n",
    "if MNIST_flag:\n",
    "    transformations = transforms.Compose([\n",
    "                        transforms.Resize((N, N)),\n",
    "                        transforms.ToTensor(),\n",
    "                        transforms.Normalize((0.1307,), (0.3081,)) # transforms.Normalize((0.5, 0.5, 0.5), (0.5, 0.5, 0.5))\n",
    "                    ])  \n",
    "    trainset = torchvision.datasets.MNIST(root='./data', train=True, download=True,transform=transformations)\n",
    "    testset = torchvision.datasets.MNIST(root='./data', train=False, transform=transformations)\n",
    "\n",
    "else: #FashionMNIST\n",
    "    transformations = transforms.Compose([\n",
    "                        transforms.Resize((N, N)),\n",
    "                        transforms.ToTensor(),\n",
    "                        transforms.Normalize((0.5,), (0.5,))\n",
    "                    ])      \n",
    "    trainset = torchvision.datasets.FashionMNIST(root='./data', train=True, download=True,transform=transformations)\n",
    "    testset = torchvision.datasets.FashionMNIST(root='./data', train=False, transform=transformations)\n",
    "\n",
    "\n",
    "\n",
    "##TO-DO: subset\n",
    "if MNIST_flag:\n",
    "    train_idx, validation_idx = train_test_split(np.arange(len(trainset)),\n",
    "                                             train_size=100, #test_size=0.99,\n",
    "                                             random_state=999,\n",
    "                                             shuffle=True,\n",
    "                                             stratify=trainset.targets)\n",
    "else:\n",
    "    train_idx, validation_idx = train_test_split(np.arange(len(trainset)),\n",
    "                                             train_size=100, #600,\n",
    "                                             random_state=999,\n",
    "                                             shuffle=True,\n",
    "                                             stratify=trainset.targets)\n",
    "# Subset dataset for train and val\n",
    "train_subset = Subset(trainset, train_idx)\n",
    "validation_dataset = Subset(trainset, validation_idx) #NOT-USE\n",
    "\n",
    "\n",
    "if subset_flag:\n",
    "  train_loader = torch.utils.data.DataLoader(train_subset, batch_size=len(train_subset), shuffle=False)\n",
    "else:\n",
    "  train_loader = torch.utils.data.DataLoader(trainset, batch_size=128, shuffle=False)\n",
    "\n",
    "test_idx, test_rest_idx = train_test_split(np.arange(len(testset)),\n",
    "                                             test_size=0.9,\n",
    "                                             random_state=999,\n",
    "                                             shuffle=True,\n",
    "                                             stratify=testset.targets)  \n",
    "test_subset = Subset(testset, test_idx)\n",
    "test_loader = torch.utils.data.DataLoader(test_subset, batch_size=len(test_subset), shuffle=False)\n",
    "print(f\"training_size={len(train_subset)}, test_size={len(test_subset)}\")\n"
   ]
  },
  {
   "cell_type": "code",
   "execution_count": 7,
   "metadata": {},
   "outputs": [
    {
     "data": {
      "image/png": "[encoded data removed]",
      "text/plain": [
       "<Figure size 1600x600 with 10 Axes>"
      ]
     },
     "metadata": {},
     "output_type": "display_data"
    }
   ],
   "source": [
    "train_y, _ = next(iter(train_loader))\n",
    "train_x = get_masked_images(train_y, mask_size=14 if MNIST_flag else 18)\n",
    "plt.figure(figsize=(16, 6))\n",
    "for i in range(5):\n",
    "    plt.subplot(2, 5, i + 1)\n",
    "    #x, y = train_loader.dataset.__getitem__(i)\n",
    "    #x, y = next(iter(train_loader))\n",
    "    #x, label = train_loader.dataset.__getitem__(i)\n",
    "    x = train_x[i] #gauss_noise_tensor(rotate_img(x))\n",
    "    if MNIST_flag:\n",
    "        plt.imshow(x.squeeze().numpy())\n",
    "    else:\n",
    "        plt.imshow(x.permute(1,2,0).numpy())\n",
    "    plt.axis('off')\n",
    "\n",
    "for j in range(5):\n",
    "    plt.subplot(2, 5, j + 6)\n",
    "    #y, label = train_loader.dataset.__getitem__(j)\n",
    "    y = train_y[j]#add_gauss_noise(adjust_contrast(x))\n",
    "    #y = add_gauss_noise(gamma_correct(x))\n",
    "    if MNIST_flag:\n",
    "        plt.imshow(y.squeeze().numpy())\n",
    "    else:\n",
    "        plt.imshow(y.permute(1,2,0).numpy())\n",
    "\n",
    "    plt.axis('off')    "
   ]
  },
  {
   "cell_type": "code",
   "execution_count": 8,
   "metadata": {},
   "outputs": [],
   "source": []
  },
  {
   "cell_type": "code",
   "execution_count": null,
   "metadata": {},
   "outputs": [],
   "source": [
    "#initialize new model instances\n",
    "gpu_id = 1\n",
    "device = torch.device(f\"cuda:{gpu_id}\" if torch.cuda.is_available() else \"cpu\")\n",
    "in_features = 1\n",
    "out_features = 1\n",
    "lr = 0.01 #for SGD seems 0.1 also works\n",
    "n_epochs = 500\n",
    "total_runs = 3 \n",
    "\n",
    "if MNIST_flag:\n",
    "    print(f\"running MNIST\")\n",
    "    mask_size = 14 #\"gamma\" #\"rotate\" #\"contrast\"\n",
    "\n",
    "else:\n",
    "    print(f\"running fashion!\")\n",
    "    mask_size = 20 #\"gamma\" #\"rotate\" #\"contrast\"\n",
    "\n",
    "cluster_sizes = [1, 2, 4, 7, 14, 28]\n",
    "#save\n",
    "\n",
    "for run in range(total_runs):\n",
    "#for run in range(total_runs-2, total_runs):\n",
    "    results_val = dict()\n",
    "    results_test = dict()\n",
    "\n",
    "    print(f\"running run={run}...\")\n",
    "    train_x, train_y, val_x, val_y, test_x, test_y = prepare_data(train_loader, test_loader, device, mask_size)\n",
    "\n",
    "    for size in cluster_sizes:\n",
    "        print(f\"Coarsen Sn: {size} x {size} clusters\")\n",
    "        torch.manual_seed(run)\n",
    "        cluster_ids = get_cluster_idxs(N,size)\n",
    "        model_coarsen_Sn = Sn_coarsen_layer(cluster_ids, in_features, out_features)\n",
    "        model_coarsen_Sn.to(device)\n",
    "        #train_loss, test_loss\n",
    "        best_val, best_test, model_coarsen_Sn = run_exp(model_coarsen_Sn, train_x, train_y, val_x, val_y, \\\n",
    "                                                            test_x, test_y, device, \\\n",
    "                                                            n_epochs=n_epochs, run=run, lr=lr, mask_size=mask_size)  \n",
    "        name = f\"Sn_coarsen{size}\"\n",
    "        results_val[name] = best_val.item()\n",
    "        results_test[name] = best_test.item()\n",
    "\n",
    "    if MNIST_flag:\n",
    "        save_path = f\"inpainting_results/linear/mnist_{mask_size}_run={run}\"\n",
    "    else:\n",
    "        save_path = f\"inpainting_results/linear/fashion_{mask_size}_run={run}\"\n",
    "    \n",
    "\n",
    "    pickle.dump(results_test, open(f\"{save_path}_test.pkl\", \"wb\"))\n",
    "    pickle.dump(results_val, open(f\"{save_path}_val.pkl\", \"wb\"))\n",
    "\n"
   ]
  }
 ],
 "metadata": {
  "kernelspec": {
   "display_name": "Python 3.10.8 ('deepspeed')",
   "language": "python",
   "name": "python3"
  },
  "language_info": {
   "codemirror_mode": {
    "name": "ipython",
    "version": 3
   },
   "file_extension": ".py",
   "mimetype": "text/x-python",
   "name": "python",
   "nbconvert_exporter": "python",
   "pygments_lexer": "ipython3",
   "version": "3.10.8"
  },
  "orig_nbformat": 4,
  "vscode": {
   "interpreter": {
    "hash": "98571cfc7d94226ba5f2228c02d2b9b718b113188057821e54d3222b6f2d774e"
   }
  }
 },
 "nbformat": 4,
 "nbformat_minor": 2
}
